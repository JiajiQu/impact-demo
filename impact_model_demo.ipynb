{
 "cells": [
  {
   "cell_type": "code",
   "execution_count": 27,
   "id": "193c9164-c9f0-4f3b-a72c-21b00360c174",
   "metadata": {},
   "outputs": [
    {
     "name": "stdout",
     "output_type": "stream",
     "text": [
      "Requirement already satisfied: cvxpy in c:\\users\\ouchi\\anaconda3_new\\lib\\site-packages (1.7.1)\n",
      "Requirement already satisfied: osqp>=0.6.2 in c:\\users\\ouchi\\anaconda3_new\\lib\\site-packages (from cvxpy) (1.0.4)\n",
      "Requirement already satisfied: clarabel>=0.5.0 in c:\\users\\ouchi\\anaconda3_new\\lib\\site-packages (from cvxpy) (0.11.1)\n",
      "Requirement already satisfied: scs>=3.2.4.post1 in c:\\users\\ouchi\\anaconda3_new\\lib\\site-packages (from cvxpy) (3.2.7.post2)\n",
      "Requirement already satisfied: numpy>=1.22.4 in c:\\users\\ouchi\\anaconda3_new\\lib\\site-packages (from cvxpy) (1.26.4)\n",
      "Requirement already satisfied: scipy>=1.13.0 in c:\\users\\ouchi\\anaconda3_new\\lib\\site-packages (from cvxpy) (1.13.1)\n",
      "Requirement already satisfied: cffi in c:\\users\\ouchi\\anaconda3_new\\lib\\site-packages (from clarabel>=0.5.0->cvxpy) (1.17.1)\n",
      "Requirement already satisfied: jinja2 in c:\\users\\ouchi\\anaconda3_new\\lib\\site-packages (from osqp>=0.6.2->cvxpy) (3.1.4)\n",
      "Requirement already satisfied: setuptools in c:\\users\\ouchi\\anaconda3_new\\lib\\site-packages (from osqp>=0.6.2->cvxpy) (75.1.0)\n",
      "Requirement already satisfied: joblib in c:\\users\\ouchi\\anaconda3_new\\lib\\site-packages (from osqp>=0.6.2->cvxpy) (1.4.2)\n",
      "Requirement already satisfied: pycparser in c:\\users\\ouchi\\anaconda3_new\\lib\\site-packages (from cffi->clarabel>=0.5.0->cvxpy) (2.21)\n",
      "Requirement already satisfied: MarkupSafe>=2.0 in c:\\users\\ouchi\\anaconda3_new\\lib\\site-packages (from jinja2->osqp>=0.6.2->cvxpy) (2.1.3)\n",
      "Note: you may need to restart the kernel to use updated packages.\n"
     ]
    }
   ],
   "source": [
    "pip install cvxpy"
   ]
  },
  {
   "cell_type": "code",
   "execution_count": 29,
   "id": "44c6cd89-5cbb-4268-b149-3fe971ba39ce",
   "metadata": {},
   "outputs": [],
   "source": [
    "import sys, os, re\n",
    "################################################################################\n",
    "import numpy as np\n",
    "import pandas as pd\n",
    "import cvxpy as cp\n",
    "import matplotlib.pyplot as plt\n",
    "################################################################################\n",
    "import ccxt\n",
    "import time\n",
    "from datetime import datetime, timezone\n",
    "from tqdm import tqdm     \n",
    "################################################################################"
   ]
  },
  {
   "cell_type": "code",
   "execution_count": 37,
   "id": "2c77a3ba-f349-4bdd-97f8-2b5158fe4059",
   "metadata": {},
   "outputs": [],
   "source": [
    "#Pipeline \n",
    "\n",
    "#Part A - Load data set\n",
    "\n",
    "# Add repo folder & import\n",
    "BASE_DIR = r\"C:\\Users\\ouchi\\Downloads\\73eb48d7-4dbc-4a10-a52a-da745b47a649_p09owkuv\\BenchmarkDatasets\\BenchmarkDatasets\"\n",
    "sys.path.insert(0, BASE_DIR)\n",
    "import data_preprocess\n",
    "sys.path.pop(0)"
   ]
  },
  {
   "cell_type": "code",
   "execution_count": 38,
   "id": "6f8e35ec-b9f5-4301-bb87-c0f4822862a4",
   "metadata": {},
   "outputs": [],
   "source": [
    "# Parameters\n",
    "data_level    = 10\n",
    "forecast_size = 10\n",
    "look_back     = 100"
   ]
  },
  {
   "cell_type": "code",
   "execution_count": 39,
   "id": "4f22a244-44ae-4c7e-b366-8cbbb551ec9c",
   "metadata": {},
   "outputs": [
    {
     "name": "stdout",
     "output_type": "stream",
     "text": [
      "Tickers loaded: [0.3502 0.002  0.3497]\n"
     ]
    }
   ],
   "source": [
    "#Path to the **NoAuction** DecPre fold you want (e.g. CF_{i})\n",
    "folder = os.path.join(\n",
    "    BASE_DIR,\n",
    "    \"NoAuction\",               # top-level asset class folder (still “NoAuction”)\n",
    "    \"3.NoAuction_DecPre\",\n",
    "    \"NoAuction_DecPre_Training\"\n",
    ")\n",
    "filename  = \"Train_Dst_NoAuction_DecPre_CF_1.txt\"\n",
    "full_path = os.path.join(folder, filename)\n"
   ]
  },
  {
   "cell_type": "code",
   "execution_count": 34,
   "id": "ea3ae281-ee93-4b74-8e2f-de7960a89bcd",
   "metadata": {},
   "outputs": [
    {
     "name": "stdout",
     "output_type": "stream",
     "text": [
      "[[2.615e+01 3.530e+03 2.606e+01 ... 3.110e+03 2.579e+01 1.280e+03]\n",
      " [2.615e+01 2.110e+03 2.606e+01 ... 1.380e+03 2.588e+01 1.230e+03]\n",
      " [2.614e+01 1.220e+03 2.606e+01 ... 3.110e+03 2.588e+01 1.230e+03]\n",
      " ...\n",
      " [3.496e+01 2.960e+03 3.491e+01 ... 9.920e+03 3.480e+01 2.646e+04]\n",
      " [3.496e+01 2.960e+03 3.490e+01 ... 9.920e+03 3.477e+01 3.120e+03]\n",
      " [3.496e+01 2.960e+03 3.490e+01 ... 9.920e+03 3.476e+01 2.870e+03]]\n"
     ]
    },
    {
     "ename": "IndexError",
     "evalue": "only integers, slices (`:`), ellipsis (`...`), numpy.newaxis (`None`) and integer or boolean arrays are valid indices",
     "output_type": "error",
     "traceback": [
      "\u001b[1;31m---------------------------------------------------------------------------\u001b[0m",
      "\u001b[1;31mIndexError\u001b[0m                                Traceback (most recent call last)",
      "Cell \u001b[1;32mIn[34], line 11\u001b[0m\n\u001b[0;32m      7\u001b[0m \u001b[38;5;66;03m# ------------------------------------------------------------------\u001b[39;00m\n\u001b[0;32m      8\u001b[0m \u001b[38;5;66;03m# B) pick which tickers you want (first 3 for example)\u001b[39;00m\n\u001b[0;32m      9\u001b[0m \u001b[38;5;66;03m# ------------------------------------------------------------------\u001b[39;00m\n\u001b[0;32m     10\u001b[0m TICKER_COL \u001b[38;5;241m=\u001b[39m \u001b[38;5;124m\"\u001b[39m\u001b[38;5;124mstock_id\u001b[39m\u001b[38;5;124m\"\u001b[39m               \u001b[38;5;66;03m# column name in FI-2010 files\u001b[39;00m\n\u001b[1;32m---> 11\u001b[0m tickers    \u001b[38;5;241m=\u001b[39m data_train[TICKER_COL]\u001b[38;5;241m.\u001b[39munique()[:\u001b[38;5;241m3\u001b[39m]\n\u001b[0;32m     13\u001b[0m \u001b[38;5;28mprint\u001b[39m(\u001b[38;5;124m\"\u001b[39m\u001b[38;5;124mX shape:\u001b[39m\u001b[38;5;124m\"\u001b[39m, data_x\u001b[38;5;241m.\u001b[39mshape)\n\u001b[0;32m     14\u001b[0m \u001b[38;5;28mprint\u001b[39m(\u001b[38;5;124m\"\u001b[39m\u001b[38;5;124my shape:\u001b[39m\u001b[38;5;124m\"\u001b[39m, data_y\u001b[38;5;241m.\u001b[39mshape)\n",
      "\u001b[1;31mIndexError\u001b[0m: only integers, slices (`:`), ellipsis (`...`), numpy.newaxis (`None`) and integer or boolean arrays are valid indices"
     ]
    }
   ],
   "source": [
    "# Load & generate\n",
    "data_train = data_preprocess.read_benchmark_data(full_path, data_level)\n",
    "data_x, data_y = data_preprocess.generate_data(data_train, forecast_size, look_back)\n",
    "\n",
    "print(\"X shape:\", data_x.shape)\n",
    "print(\"y shape:\", data_y.shape)"
   ]
  },
  {
   "cell_type": "code",
   "execution_count": 9,
   "id": "9fdf0a17-635f-4ce1-b42e-592cd1df6412",
   "metadata": {},
   "outputs": [
    {
     "name": "stdout",
     "output_type": "stream",
     "text": [
      "first five snapshots with 5-point impact curve:\n",
      "\n",
      "         g_100        g_200        g_500       g_1000       g_2000\n",
      "0  2592.108230  3047.959115  3321.469646  3412.639823  3458.224912\n",
      "1  1541.577230  1812.686115  1975.351446  2029.573223  2056.684111\n",
      "2   883.182628  1038.503814  1131.696526  1162.760763  1178.292881\n",
      "3  2362.762628  2778.283814  3027.596526  3110.700763  3152.252881\n",
      "4  2362.762628  2778.283814  3027.596526  3110.700763  3152.252881\n"
     ]
    }
   ],
   "source": [
    "###############################################################################\n",
    "# Piepline parts B & C ─ build g_t(x) impact curves for the No-Auction CF-1 set\n",
    "###############################################################################\n",
    "from typing import Sequence, Dict, Literal\n",
    "\n",
    "# 0) ─────────────────── CONFIG ───────────────────────────────────────────────\n",
    "LEVELS       = 10                                    #   ← data_level you loaded\n",
    "ORDER_SIZES  = np.array([100, 200, 500, 1000, 2000]) #   shares to test\n",
    "SIDE         = \"buy\"                                 #   or \"sell\"\n",
    "\n",
    "# 1) ─────────────────── single-snapshot slippage g(x) ────────────────────────\n",
    "def slippage(snap: np.ndarray,\n",
    "             side: Literal[\"buy\", \"sell\"],\n",
    "             size: int) -> float:\n",
    "    \"\"\"\n",
    "    Dollar slippage per share vs. mid-price for a market order of `size`.\n",
    "    Works on 40-column Decimal-Preprocessed rows:\n",
    "       ask_px[0:L]  ask_vol[L:2L]  bid_px[2L:3L]  bid_vol[3L:4L]\n",
    "    \"\"\"\n",
    "    L = LEVELS\n",
    "    ask_px  = snap[0      : L]\n",
    "    ask_vol = snap[L      : 2*L]\n",
    "    bid_px  = snap[2*L    : 3*L]\n",
    "    bid_vol = snap[3*L    : 4*L]\n",
    "\n",
    "    mid = 0.5 * (ask_px[0] + bid_px[0])\n",
    "\n",
    "    px, vol = (ask_px, ask_vol) if side == \"buy\" else (bid_px, bid_vol)\n",
    "\n",
    "    rem, cost = size, 0.0\n",
    "    for lvl in range(L):\n",
    "        take = min(rem, vol[lvl])\n",
    "        cost += take * px[lvl]\n",
    "        rem  -= take\n",
    "        if rem == 0:\n",
    "            break\n",
    "\n",
    "    if rem > 0:                       # not enough depth –∞ slippage\n",
    "        return np.nan\n",
    "\n",
    "    return cost / size - mid          # $ / share\n",
    "\n",
    "# 2) ─────────────────── impact curve for one instrument ──────────────────────\n",
    "def build_impact(book: np.ndarray,\n",
    "                 sizes: Sequence[int] = ORDER_SIZES,\n",
    "                 side: str = SIDE) -> pd.DataFrame:\n",
    "    \"\"\"\n",
    "    book:  (n_snapshots , 4*LEVELS)   NumPy array OR DataFrame.\n",
    "    returns: DataFrame indexed by snapshot number with columns g_x for x in sizes\n",
    "    \"\"\"\n",
    "    if isinstance(book, pd.DataFrame):\n",
    "        idx, mat = book.index, book.to_numpy()\n",
    "    else:\n",
    "        idx, mat = pd.RangeIndex(book.shape[0]), book\n",
    "\n",
    "    rows = [{f\"g_{x}\": slippage(s, side, x) for x in sizes} for s in mat]\n",
    "    return pd.DataFrame(rows, index=idx).dropna(how=\"all\")\n",
    "\n",
    "# 3) ─────────────────── impact curves for every ticker tensor ────────────────\n",
    "def build_all_impacts(books: Dict[str, np.ndarray | pd.DataFrame],\n",
    "                      side: str = SIDE) -> Dict[str, pd.DataFrame]:\n",
    "    \"\"\"\n",
    "    books : {ticker: snapshot-matrix}\n",
    "    returns: {ticker: impact-DataFrame}\n",
    "    \"\"\"\n",
    "    return {stk: build_impact(mat, ORDER_SIZES, side) for stk, mat in books.items()}\n",
    "\n",
    "# 4) ─────────────────── example on CF-1 tensor you loaded ────────────────────\n",
    "# `data_x` came from generate_data:   (N_windows, 100, 4*LEVELS)\n",
    "noauction_cf1 = data_x.reshape(-1, data_x.shape[2])   # flatten windows → snapshots"
   ]
  },
  {
   "cell_type": "code",
   "execution_count": null,
   "id": "ddd193bc-5738-4c83-96a3-9cccbd7f8b03",
   "metadata": {},
   "outputs": [],
   "source": [
    "# C) build the books dict you used earlier (matrix per stock)\n",
    "# ------------------------------------------------------------------\n",
    "books = {}\n",
    "for stk in tickers:\n",
    "    df_stk = raw[raw[TICKER_COL] == stk].reset_index(drop=True)\n",
    "\n",
    "    # columns that contain the flattened LOB: ask/bid_price/vol_lvl1…10\n",
    "    lob_cols = df_stk.filter(regex=\"(ask|bid)_(price|volume)_lvl\").columns\n",
    "    books[stk] = df_stk[lob_cols].to_numpy()          # (n_snapshots, 4*levels)\n",
    "\n",
    "impact = {stk: build_impact(mat) for stk, mat in books.items()}\n",
    "\n",
    "print(\"first five snapshots with 5-point impact curve:\\n\")\n",
    "print(impact[\"NoAuction_CF1\"].head())"
   ]
  },
  {
   "cell_type": "code",
   "execution_count": 10,
   "id": "f1fd5b79-d01d-4e6f-81df-b2cb9daf89b7",
   "metadata": {},
   "outputs": [],
   "source": [
    "###############################################################################\n",
    "# PART D – β-fit & simple optimal‐allocation schedules\n",
    "###############################################################################\n",
    "\n",
    "# -------------------------------------------------------------\n",
    "# parameters you can tweak\n",
    "# -------------------------------------------------------------\n",
    "ORDER_SIZES    = np.array([100, 200, 500, 1000, 2000], dtype=int)\n",
    "HORIZON        = 10            # how many snapshots ahead to execute\n",
    "TARGET_SHARES  = 10_000        # total shares you need to buy\n",
    "SIDE           = \"buy\"         # keep for symmetry with earlier code"
   ]
  },
  {
   "cell_type": "code",
   "execution_count": 40,
   "id": "beb1a60a-2f30-42f1-83b4-035b38d81739",
   "metadata": {},
   "outputs": [],
   "source": [
    "# -------------------------------------------------------------\n",
    "# 1) β-fit for ONE impact DataFrame\n",
    "# -------------------------------------------------------------\n",
    "def beta_series(impact_df: pd.DataFrame,\n",
    "                sizes: Sequence[float] = ORDER_SIZES) -> pd.Series:\n",
    "    \"\"\"\n",
    "    OLS slope through the origin: β_t = Σ x·g_t(x) / Σ x²\n",
    "    \"\"\"\n",
    "    xs      = sizes.astype(float)\n",
    "    denom   = np.sum(xs**2)\n",
    "    betas   = impact_df.apply(lambda row: np.nansum(xs * row.values) / denom,\n",
    "                              axis=1)\n",
    "    return betas.dropna().rename(\"beta\")\n",
    "\n",
    "# -------------------------------------------------------------\n",
    "# 2)  β-fit for every ticker\n",
    "# -------------------------------------------------------------\n",
    "def build_all_betas(impact: Dict[str, pd.DataFrame]) -> Dict[str, pd.Series]:\n",
    "    return {stk: beta_series(df) for stk, df in impact.items()}"
   ]
  },
  {
   "cell_type": "code",
   "execution_count": 12,
   "id": "7fec0b7e-6e3b-4d8b-8041-89c7109058d0",
   "metadata": {},
   "outputs": [],
   "source": [
    "# -----------------------------------------------------------------\n",
    "# NEW optimal allocation         (drop this in Part D, step 3)\n",
    "# -----------------------------------------------------------------\n",
    "def optimal_allocation(window_betas: pd.Series,\n",
    "                       Q: int = TARGET_SHARES,\n",
    "                       top_k: int = 4,          # keep this many best minutes\n",
    "                       smooth: bool = True) -> pd.Series:\n",
    "    \"\"\"\n",
    "    Allocate Q shares across the next H snapshots.\n",
    "      · weight 1/β  (inverse expected cost)\n",
    "      · keep only top_k snapshots (others → 0)\n",
    "      · optional 3-point smoothing kernel\n",
    "    \"\"\"\n",
    "    inv_liq = 1.0 / window_betas.values\n",
    "\n",
    "    # ---- keep only the k most-liquid minutes --------------------\n",
    "    if top_k < len(inv_liq):\n",
    "        keep_mask = inv_liq.argsort()[::-1][:top_k]      # indices of top_k\n",
    "        mask      = np.zeros_like(inv_liq, dtype=bool)\n",
    "        mask[keep_mask] = True\n",
    "        inv_liq = inv_liq * mask                         # others → 0\n",
    "\n",
    "    # ---- optional smoothing ------------------------------------\n",
    "    if smooth and len(inv_liq) >= 3:\n",
    "        inv_liq = np.convolve(inv_liq, [0.25, 0.5, 0.25], mode=\"same\")\n",
    "\n",
    "    # ---- normalise and scale to Q ------------------------------\n",
    "    if inv_liq.sum() == 0:              # fallback: even split\n",
    "        alloc = np.full_like(inv_liq, Q / len(inv_liq))\n",
    "    else:\n",
    "        alloc = inv_liq / inv_liq.sum() * Q\n",
    "\n",
    "    return pd.Series(alloc, index=window_betas.index)"
   ]
  },
  {
   "cell_type": "code",
   "execution_count": 13,
   "id": "320a1025-1e78-47d3-abbd-383bc7c2461b",
   "metadata": {},
   "outputs": [],
   "source": [
    "# -------------------------------------------------------------\n",
    "# 4)  build schedules for every start time\n",
    "# -------------------------------------------------------------\n",
    "def build_schedules(beta_ts: pd.Series,\n",
    "                    horizon: int = HORIZON,\n",
    "                    Q: int = TARGET_SHARES) -> Dict[pd.Timestamp, pd.Series]:\n",
    "    \"\"\"\n",
    "    Returns {t0: allocation_series_over_next_H_snapshots}\n",
    "    \"\"\"\n",
    "    out = {}\n",
    "    for i in range(len(beta_ts) - horizon):\n",
    "        t0          = beta_ts.index[i]\n",
    "        win_betas   = beta_ts.iloc[i+1 : i+1+horizon]\n",
    "        out[t0]     = optimal_allocation(win_betas, Q)\n",
    "    return out"
   ]
  },
  {
   "cell_type": "code",
   "execution_count": 14,
   "id": "f1df87b3-6d4b-49f2-91fd-6d0970f6b89a",
   "metadata": {},
   "outputs": [
    {
     "name": "stdout",
     "output_type": "stream",
     "text": [
      "\n",
      "β series window starting at 0:\n",
      " 0     2.426156\n",
      "1     1.442889\n",
      "2     0.826644\n",
      "3     2.211498\n",
      "4     2.211498\n",
      "5     2.211437\n",
      "6     0.064967\n",
      "7     6.337948\n",
      "8     5.645561\n",
      "9     5.450478\n",
      "10    5.645652\n",
      "Name: beta, dtype: float64\n",
      "\n",
      "Optimal allocation (shares per snapshot):\n",
      " 1      369.265866\n",
      "2      442.762377\n",
      "3      172.086296\n",
      "4       64.326542\n",
      "5     2318.297908\n",
      "6     4443.616189\n",
      "7     2189.644823\n",
      "8        0.000000\n",
      "9        0.000000\n",
      "10       0.000000\n",
      "dtype: float64\n"
     ]
    }
   ],
   "source": [
    "###############################################################################\n",
    "# EXAMPLE – run on the impact dict you built earlier\n",
    "###############################################################################\n",
    "betas = build_all_betas(impact)                        # impact from B & C\n",
    "\n",
    "schedules_all  = {stk: build_schedules(b) for stk, b in betas.items()}\n",
    "\n",
    "# Peek at the very first schedule\n",
    "first_t0 = next(iter(schedules))\n",
    "print(f\"\\nβ series window starting at {first_t0}:\\n\", beta_cf1.loc[first_t0:].head(HORIZON+1))\n",
    "print(\"\\nOptimal allocation (shares per snapshot):\\n\", schedules[first_t0])\n"
   ]
  },
  {
   "cell_type": "code",
   "execution_count": 15,
   "id": "b398d6e8-2ca0-4715-8284-4e66e82660ac",
   "metadata": {},
   "outputs": [],
   "source": [
    "###############################################################################\n",
    "# PART E  –  simulate realised cost of each optimal schedule\n",
    "###############################################################################\n",
    "\n",
    "# ---------------------------------------------------------------------------\n",
    "# helper: realised cost of ANY trading schedule executed over actual g_t(x)\n",
    "# ---------------------------------------------------------------------------\n",
    "SAMPLE_EVERY_K = 200        # keep 1/k start-times (adjust as you like)\n",
    "CHUNK_SIZE     = 10_000     # for the optional chunked path\n",
    "\n",
    "# ---------------------------------------------------------------------------\n",
    "def realised_cost(g_df: pd.DataFrame, schedule: pd.Series) -> float:\n",
    "    cost = 0.0\n",
    "    for ts, q in schedule.items():\n",
    "        if q == 0:\n",
    "            continue\n",
    "        row = g_df.loc[ts]\n",
    "        size_bucket = ORDER_SIZES[np.argmin(np.abs(ORDER_SIZES - q))]\n",
    "        col_name    = f\"g_{int(size_bucket)}\"\n",
    "        g_val       = row[col_name]\n",
    "        if pd.isna(g_val):\n",
    "            return np.inf\n",
    "        cost += g_val * q\n",
    "    return cost"
   ]
  },
  {
   "cell_type": "code",
   "execution_count": 16,
   "id": "64778188-9d44-4e23-924b-cbe74d33708b",
   "metadata": {},
   "outputs": [],
   "source": [
    "# ---------------------------------------------------------------------------\n",
    "# build a cost table for every t0 schedule\n",
    "# ---------------------------------------------------------------------------\n",
    "def cost_table_one_ticker(impact_df: pd.DataFrame,\n",
    "                          schedules: Dict[pd.Timestamp, pd.Series],\n",
    "                          Q: int = TARGET_SHARES) -> pd.DataFrame:\n",
    "    rec = []\n",
    "    for t0, sch in schedules.items():\n",
    "        real_cost  = realised_cost(impact_df, sch)\n",
    "        win_idx    = sch.index\n",
    "        even_split = pd.Series(Q/len(sch), index=win_idx)\n",
    "        front_load = pd.Series([Q]+[0]*(len(sch)-1), index=win_idx)\n",
    "        rec.append({\n",
    "            \"t0\": t0,\n",
    "            \"cost_opt\":   real_cost,\n",
    "            \"cost_even\":  realised_cost(impact_df, even_split),\n",
    "            \"cost_front\": realised_cost(impact_df, front_load)\n",
    "        })\n",
    "    tbl = pd.DataFrame(rec).set_index(\"t0\")\n",
    "    tbl[\"saving_vs_even\"]  = tbl[\"cost_even\"]  - tbl[\"cost_opt\"]\n",
    "    tbl[\"saving_vs_front\"] = tbl[\"cost_front\"] - tbl[\"cost_opt\"]\n",
    "    return tbl"
   ]
  },
  {
   "cell_type": "code",
   "execution_count": 17,
   "id": "7d075731-fcf8-4162-ad6f-44245bef11b6",
   "metadata": {},
   "outputs": [],
   "source": [
    "# ---------------------------------------------------------------------------\n",
    "# MAIN driver  – run over every ticker\n",
    "# ---------------------------------------------------------------------------\n",
    "def evaluate_all(impact: Dict[str, pd.DataFrame],\n",
    "                 schedules: Dict[str, Dict[pd.Timestamp, pd.Series]],\n",
    "                 Q: int = TARGET_SHARES,\n",
    "                 sample_k: int = SAMPLE_EVERY_K) -> Dict[str, pd.DataFrame]:\n",
    "    out = {}\n",
    "    for stk, impact_df in impact.items():\n",
    "        if stk not in schedules:\n",
    "            continue\n",
    "        sched_dict = schedules[stk]\n",
    "        if sample_k > 1:                      # subsample to save RAM\n",
    "            keys = list(sched_dict)[::sample_k]\n",
    "            sched_dict = {k: sched_dict[k] for k in keys}\n",
    "        out[stk] = cost_table_one_ticker(impact_df, sched_dict, Q)\n",
    "    return out"
   ]
  },
  {
   "cell_type": "code",
   "execution_count": 18,
   "id": "2784afa7-cf47-4a37-834e-e4c23237c74c",
   "metadata": {},
   "outputs": [],
   "source": [
    "##############################################################################\n",
    "# ─── run evaluation (single-ticker example) ─────────────────────────────────\n",
    "##############################################################################\n",
    "# 1. build / wrap schedules under ticker key\n",
    "schedule_cf1   = build_schedules(betas[\"NoAuction_CF1\"])      # from Part D\n",
    "schedules_all  = {\"NoAuction_CF1\": schedule_cf1}\n",
    "\n",
    "# 2. evaluate (uses sampling factor set above)\n",
    "results = evaluate_all(impact, schedules_all, Q=TARGET_SHARES)\n",
    "print(results.keys())          # e.g. dict_keys(['AAPL', 'MSFT', 'GOOG'])\n"
   ]
  },
  {
   "cell_type": "code",
   "execution_count": 19,
   "id": "76cb2b18-60d2-47a6-8996-39e4d8659c72",
   "metadata": {},
   "outputs": [
    {
     "name": "stdout",
     "output_type": "stream",
     "text": [
      "\n",
      "Rows in result table: 19701\n",
      "Mean cost (opt / even / front):\n",
      "cost_opt      7.652463e+07\n",
      "cost_even     1.096037e+08\n",
      "cost_front    1.100372e+08\n",
      "dtype: float64\n",
      "\n",
      "Median $-saving vs even-split: 12628545.9431556\n",
      "95-percentile saving vs front-load: 213025203.91973138\n"
     ]
    }
   ],
   "source": [
    "# 3. quick summary\n",
    "cf1_tbl = results[\"NoAuction_CF1\"]\n",
    "print(\"\\nRows in result table:\", len(cf1_tbl))\n",
    "print(\"Mean cost (opt / even / front):\")\n",
    "print(cf1_tbl[[\"cost_opt\", \"cost_even\", \"cost_front\"]].mean())\n",
    "print(\"\\nMedian $-saving vs even-split:\",  cf1_tbl[\"saving_vs_even\"].median())\n",
    "print(\"95-percentile saving vs front-load:\",\n",
    "      cf1_tbl[\"saving_vs_front\"].quantile(0.95))"
   ]
  },
  {
   "cell_type": "code",
   "execution_count": 20,
   "id": "1f8d3905-7ce1-454d-8238-e07ea0c942ca",
   "metadata": {},
   "outputs": [
    {
     "name": "stdout",
     "output_type": "stream",
     "text": [
      "         cost_opt     cost_even    cost_front  saving_vs_even  saving_vs_front\n",
      "t0                                                                            \n",
      "0    2.936212e+07  4.535444e+07  2.056684e+07    1.599233e+07    -8.795274e+06\n",
      "200  3.058820e+07  5.804438e+07  3.152253e+07    2.745618e+07     9.343271e+05\n",
      "400  3.130496e+07  6.770493e+07  3.152221e+07    3.639998e+07     2.172528e+05\n",
      "600  7.953359e+07  8.038535e+07  9.034450e+07    8.517674e+05     1.081091e+07\n",
      "800  3.777465e+07  6.743231e+07  7.530824e+07    2.965767e+07     3.753359e+07\n",
      "           cost_opt     cost_even    cost_front  saving_vs_even  \\\n",
      "count  1.970100e+04  1.970100e+04  1.970100e+04    1.970100e+04   \n",
      "mean   7.652463e+07  1.096037e+08  1.100372e+08    3.307906e+07   \n",
      "std    9.646237e+07  1.233201e+08  1.463966e+08    5.629852e+07   \n",
      "min   -1.422762e+05 -6.104941e+04 -1.681165e+05   -1.745311e+08   \n",
      "25%    1.920402e+07  2.702988e+07  2.193480e+07    2.823513e+06   \n",
      "50%    4.087287e+07  6.349591e+07  5.028557e+07    1.262855e+07   \n",
      "75%    9.902175e+07  1.494040e+08  1.389849e+08    4.111305e+07   \n",
      "max    1.048977e+09  1.283793e+09  2.213928e+09    1.014812e+09   \n",
      "\n",
      "       saving_vs_front  \n",
      "count     1.970100e+04  \n",
      "mean      3.351258e+07  \n",
      "std       1.043660e+08  \n",
      "min      -5.159840e+08  \n",
      "25%      -2.556817e+06  \n",
      "50%       7.572750e+05  \n",
      "75%       3.228299e+07  \n",
      "max       1.952633e+09  \n"
     ]
    }
   ],
   "source": [
    "print(cf1_tbl.head())\n",
    "print(cf1_tbl.describe())"
   ]
  },
  {
   "cell_type": "code",
   "execution_count": 21,
   "id": "70a7ee8c-ead0-435b-a241-cf6845703c52",
   "metadata": {},
   "outputs": [
    {
     "name": "stdout",
     "output_type": "stream",
     "text": [
      "0.24972348425883276\n"
     ]
    }
   ],
   "source": [
    "print((cf1_tbl['saving_vs_even'] / cf1_tbl['cost_even']).median())\n"
   ]
  },
  {
   "cell_type": "code",
   "execution_count": 22,
   "id": "9b6b0513-6239-415a-9aca-e8bdb30333ad",
   "metadata": {},
   "outputs": [],
   "source": [
    "###############################################################################\n",
    "# PART F – visualise impact curves & optimal schedules\n",
    "###############################################################################\n",
    "\n",
    "# ------------ tweakables ----------------------------------------------------\n",
    "OUTPUT_DIR    = \".\"            # folder for PDFs\n",
    "SNAPSHOT_IDX  = 30             # which row to illustrate\n",
    "BAR_WIDTH     = 0.02           # width of allocation bars\n",
    "# ---------------------------------------------------------------------------\n",
    "\n",
    "\n",
    "def sanitize_ticker(ticker: str) -> str:\n",
    "    \"\"\"File-safe ticker string.\"\"\"\n",
    "    return \"\".join(c if c.isalnum() else \"_\" for c in ticker)\n",
    "\n",
    "\n",
    "# make sure output folder exists\n",
    "os.makedirs(OUTPUT_DIR, exist_ok=True)"
   ]
  },
  {
   "cell_type": "code",
   "execution_count": 23,
   "id": "c533b4a5-f73d-49b9-9c94-0f66c73f9771",
   "metadata": {},
   "outputs": [
    {
     "data": {
      "image/png": "[encoded data removed]",
      "text/plain": [
       "<Figure size 400x300 with 1 Axes>"
      ]
     },
     "metadata": {},
     "output_type": "display_data"
    },
    {
     "data": {
      "image/png": "[encoded data removed]",
      "text/plain": [
       "<Figure size 500x200 with 1 Axes>"
      ]
     },
     "metadata": {},
     "output_type": "display_data"
    },
    {
     "name": "stdout",
     "output_type": "stream",
     "text": [
      "[NoAuction_CF1] plots saved: impact_stock_NoAuction_CF1.pdf and alloc_stock_NoAuction_CF1.pdf\n"
     ]
    }
   ],
   "source": [
    "for stk, g_df in impact.items():\n",
    "\n",
    "    # -------------------------------- IMPACT CURVE -------------------------\n",
    "    if g_df.empty:\n",
    "        print(f\"[{stk}] impact DataFrame empty – skipping.\")\n",
    "        continue\n",
    "\n",
    "    # choose snapshot\n",
    "    idx = min(SNAPSHOT_IDX, len(g_df) - 1)\n",
    "    sample = g_df.iloc[idx]          # row of g_100 … g_2000\n",
    "    ts     = sample.name\n",
    "\n",
    "    # build X, y (mask out NaNs that survived)\n",
    "    y_all = sample.to_numpy()\n",
    "    mask  = ~pd.isna(y_all)\n",
    "    X     = ORDER_SIZES[mask]\n",
    "    y     = y_all[mask]\n",
    "\n",
    "    # β value at that timestamp (if any)\n",
    "    beta_ts = betas.get(stk)\n",
    "    bval    = np.nan\n",
    "    if beta_ts is not None and len(beta_ts):\n",
    "        if hasattr(beta_ts.index, \"tz\"):           # align tz to None\n",
    "            beta_ts = beta_ts.tz_convert(None)\n",
    "        if ts in beta_ts.index:\n",
    "            bval = beta_ts.loc[ts]\n",
    "        else:\n",
    "            earlier = beta_ts.index[beta_ts.index <= ts]\n",
    "            if len(earlier):\n",
    "                bval = beta_ts.loc[earlier[-1]]\n",
    "\n",
    "    # plot impact\n",
    "    plt.figure(figsize=(4, 3))\n",
    "    plt.scatter(X, y, label=\"Observed slippage\")\n",
    "    if not np.isnan(bval):\n",
    "        plt.plot(X, bval * X, label=f\"Linear fit (β={bval:.2e})\",\n",
    "                 linewidth=1.5)\n",
    "    plt.title(f\"{stk} impact at {pd.Timestamp(ts).time()}\")\n",
    "    plt.xlabel(\"Order size (shares)\")\n",
    "    plt.ylabel(\"Slippage (scaled $ / shr)\")\n",
    "    plt.legend()\n",
    "    plt.tight_layout()\n",
    "\n",
    "    safe = sanitize_ticker(stk)\n",
    "    fname_imp = os.path.join(OUTPUT_DIR, f\"impact_stock_{safe}.pdf\")\n",
    "    plt.savefig(fname_imp)\n",
    "    plt.show()\n",
    "    plt.close()\n",
    "\n",
    "    # -------------------------------- ALLOCATION ---------------------------\n",
    "    if stk not in schedules_all:\n",
    "        print(f\"[{stk}] no schedules found – skipping allocation plot.\")\n",
    "        continue\n",
    "\n",
    "    sched_dict = schedules_all[stk]\n",
    "    if not sched_dict:\n",
    "        print(f\"[{stk}] schedules dict empty – skipping allocation plot.\")\n",
    "        continue\n",
    "\n",
    "    # pick the first start-time window\n",
    "    t0, alloc = next(iter(sched_dict.items()))\n",
    "\n",
    "    plt.figure(figsize=(5, 2))\n",
    "    plt.bar(alloc.index, alloc.values, width=BAR_WIDTH)\n",
    "    plt.title(f\"Optimal schedule – {stk} (start {pd.Timestamp(t0).time()})\")\n",
    "    plt.ylabel(\"Shares per snapshot\")\n",
    "    plt.tight_layout()\n",
    "\n",
    "    fname_alloc = os.path.join(OUTPUT_DIR, f\"alloc_stock_{safe}.pdf\")\n",
    "    plt.savefig(fname_alloc)\n",
    "    plt.show()\n",
    "    plt.close()\n",
    "\n",
    "    print(f\"[{stk}] plots saved:\", os.path.basename(fname_imp),\n",
    "          \"and\", os.path.basename(fname_alloc))"
   ]
  },
  {
   "cell_type": "code",
   "execution_count": null,
   "id": "379d84c5-9106-4772-a13e-5844ba4b59b1",
   "metadata": {},
   "outputs": [],
   "source": []
  },
  {
   "cell_type": "code",
   "execution_count": null,
   "id": "cba4407d-7f49-465f-b208-609c7b307608",
   "metadata": {},
   "outputs": [],
   "source": []
  },
  {
   "cell_type": "code",
   "execution_count": null,
   "id": "e2b42c26-2ae3-4fd3-bca0-6556fe497a73",
   "metadata": {},
   "outputs": [],
   "source": []
  }
 ],
 "metadata": {
  "kernelspec": {
   "display_name": "Python [conda env:base] *",
   "language": "python",
   "name": "conda-base-py"
  },
  "language_info": {
   "codemirror_mode": {
    "name": "ipython",
    "version": 3
   },
   "file_extension": ".py",
   "mimetype": "text/x-python",
   "name": "python",
   "nbconvert_exporter": "python",
   "pygments_lexer": "ipython3",
   "version": "3.12.7"
  }
 },
 "nbformat": 4,
 "nbformat_minor": 5
}
